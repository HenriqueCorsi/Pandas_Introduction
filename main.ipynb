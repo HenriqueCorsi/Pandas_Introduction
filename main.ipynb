{
 "cells": [
  {
   "cell_type": "code",
   "execution_count": null,
   "metadata": {},
   "outputs": [],
   "source": [
    "# Para ler um dataframe \n",
    "import pandas as pd\n",
    "\n",
    "arquivo = pd.read_csv('./pandas-essencial-main/datasets/GasPricesinBrazil_2004-2019.csv', sep=';')\n",
    "\n",
    "display(arquivo)"
   ]
  },
  {
   "cell_type": "code",
   "execution_count": null,
   "metadata": {},
   "outputs": [],
   "source": [
    "# Para ter as primeiras 5 linhas do dataframe\n",
    "\n",
    "display(arquivo.head()) # Utilizamos a função .head()"
   ]
  },
  {
   "cell_type": "code",
   "execution_count": null,
   "metadata": {},
   "outputs": [],
   "source": [
    "# Exibi as informações da estrutur da nosso dataframe\n",
    "\n",
    "display(arquivo.info()) #Utilizando a função .info()"
   ]
  },
  {
   "cell_type": "code",
   "execution_count": null,
   "metadata": {},
   "outputs": [],
   "source": [
    "# Exibi a estrutura básica do Dataframe\n",
    "# A funçõa .shap() retorna uma tupla exibindo a quantidade de linha e a quantidade de colunas do Dataframe\n",
    "\n",
    "print(f'O número de LINHAS do nosso DataFrame é {arquivo.shape[0]} e a quantidade de COLUNAS é {arquivo.shape[1]}')"
   ]
  },
  {
   "cell_type": "code",
   "execution_count": null,
   "metadata": {},
   "outputs": [],
   "source": [
    "# Criando um DataFrame direto do Pandas\n",
    "# Como Criar:\n",
    "    # 1 -> Atribuimos o DataFrame a uma variavel\n",
    "    # 2 -> Chamamos a função DatraFrame utilizando o pd\n",
    "    # 3 -> Criamos uma tupla e dentro dessa tuplal terá um dicionario\n",
    "    # 4 -> As Keys será o nome das Colunas\n",
    "    # 5 -> Os Values serão listas onde cada posição será uma linha\n",
    "\n",
    "jogadores = pd.DataFrame({\n",
    "    'Nome': ['Neymar', 'Bernado Silva', 'Rashford', 'Saka', 'Haaland'],\n",
    "    'Club': ['Al Hilal', 'Man City', 'Man United', 'Arsenal', 'Man City'],\n",
    "    'Position': ['PE', 'MC', 'ATA', 'PD', 'ATA'],\n",
    "    'Shoot': ['Right', 'Left', 'Right', 'Left', 'Left']\n",
    "})\n",
    "\n",
    "display(jogadores)"
   ]
  },
  {
   "cell_type": "code",
   "execution_count": 24,
   "metadata": {},
   "outputs": [
    {
     "data": {
      "text/plain": [
       "Index(['Nome', 'Club', 'Position', 'Shoot'], dtype='object')"
      ]
     },
     "execution_count": 24,
     "metadata": {},
     "output_type": "execute_result"
    }
   ],
   "source": [
    "# Retorna uma tupla e dentro dessa tupla contem uma lista de todas as colunas do DataFrame jogadores\n",
    "jogadores.columns"
   ]
  },
  {
   "cell_type": "code",
   "execution_count": null,
   "metadata": {},
   "outputs": [],
   "source": [
    "# Com a função rename() conseguimos atualizar o nome das colunas do nosso DataFrame\n",
    "# Vamos lá:\n",
    "    # 1 -> Criamos uma variavel que será a responsavel por armazanar o novo DataFrame\n",
    "    # 2 -> Dentro dessa variavel atribuimos o nome da DataFrame que iremos modificar, colocamos o pontos e chamamos a função rename()\n",
    "    # 3 -> Como parametro ela tera o columns=\n",
    "    # 4 -> Dentro desse columns= colocamos uma tupla e dentro dessa tupla colocamos um dicionario\n",
    "    # 5 -> Key será o antigo nome da COLUNA e o Value será o novo nome da COLUNA\n",
    "\n",
    "jogadores_update = jogadores.rename(columns={\n",
    "    'Nome':'Name',\n",
    "})\n",
    "\n",
    "display(jogadores_update)"
   ]
  },
  {
   "cell_type": "code",
   "execution_count": null,
   "metadata": {},
   "outputs": [],
   "source": [
    "# Aqui utlizamos o INPLACE=TRUE para alterar o nome da Coluna sem precisar criar um nove DataFrame\n",
    "jogadores.rename(columns=({\n",
    "    'Nome':'Name'\n",
    "}), inplace=True)\n",
    "\n",
    "jogadores"
   ]
  },
  {
   "cell_type": "code",
   "execution_count": null,
   "metadata": {},
   "outputs": [],
   "source": [
    "# Dessa maneira alteramos o nome de todas as colunas de uma só vez\n",
    "\n",
    "jogadores.columns = ['Nome', 'Clube', 'Posição Favorita', 'Melhor Pé']\n",
    "\n",
    "jogadores"
   ]
  },
  {
   "cell_type": "code",
   "execution_count": null,
   "metadata": {},
   "outputs": [],
   "source": [
    "#Extraindo somente os dados da colunas Club do DataFRame jogadores\n",
    "jogadores['Club']"
   ]
  },
  {
   "cell_type": "code",
   "execution_count": null,
   "metadata": {},
   "outputs": [],
   "source": [
    "#Extraindo someente os dados da linha 2 do DataFrame jogadores\n",
    "jogadores.iloc[2]"
   ]
  },
  {
   "cell_type": "code",
   "execution_count": 7,
   "metadata": {},
   "outputs": [
    {
     "data": {
      "text/plain": [
       "<bound method DataFrame.info of        ID Pedido Data Pedido  ID Loja                    Produto     Marca  \\\n",
       "0           2554  2021-01-01        3              OnePlus 9 Pro   OnePlus   \n",
       "1           2707  2021-01-01        1       Apple Watch Series 7     Apple   \n",
       "2           3309  2021-01-01        5       Nintendo Switch OLED  Nintendo   \n",
       "3           3376  2021-01-01        1  Samsung QN90A Neo QLED TV   Samsung   \n",
       "4           3635  2021-01-01        1      iPhone 12 mini (64GB)     Apple   \n",
       "...          ...         ...      ...                        ...       ...   \n",
       "11995       9934  2021-12-31        1       Bose QuietComfort 45      Bose   \n",
       "11996      10361  2021-12-31        5   Samsung Galaxy S21 Ultra   Samsung   \n",
       "11997      10745  2021-12-31        3            HP Spectre x360        HP   \n",
       "11998      10992  2021-12-31        2     Samsung Galaxy Watch 4   Samsung   \n",
       "11999      11417  2021-12-31        2     iPhone 13 mini (128GB)     Apple   \n",
       "\n",
       "       Quantidade  Preço Unitário  Preço Total  Formas de Pagamento  \n",
       "0               1         2127.41       2127.41                 Pix  \n",
       "1               4         5163.84      20655.36                 Pix  \n",
       "2               3         9851.29      29553.87              Débito  \n",
       "3               4         2819.41      11277.64             Crédito  \n",
       "4               2         3384.15       6768.30              Débito  \n",
       "...           ...             ...           ...                 ...  \n",
       "11995           5         9696.49      48482.45                 Pix  \n",
       "11996           3         6388.63      19165.89              Débito  \n",
       "11997           4         8969.44      35877.76                 Pix  \n",
       "11998           4         4519.95      18079.80             Crédito  \n",
       "11999           1         8411.79       8411.79              Débito  \n",
       "\n",
       "[12000 rows x 9 columns]>"
      ]
     },
     "execution_count": 7,
     "metadata": {},
     "output_type": "execute_result"
    }
   ],
   "source": [
    "import pandas as pd\n",
    "\n",
    "file = pd.read_excel('./relatorio_vendas_2021.xlsx')\n",
    "\n",
    "file.info"
   ]
  }
 ],
 "metadata": {
  "kernelspec": {
   "display_name": "Python 3",
   "language": "python",
   "name": "python3"
  },
  "language_info": {
   "codemirror_mode": {
    "name": "ipython",
    "version": 3
   },
   "file_extension": ".py",
   "mimetype": "text/x-python",
   "name": "python",
   "nbconvert_exporter": "python",
   "pygments_lexer": "ipython3",
   "version": "3.12.1"
  }
 },
 "nbformat": 4,
 "nbformat_minor": 2
}
