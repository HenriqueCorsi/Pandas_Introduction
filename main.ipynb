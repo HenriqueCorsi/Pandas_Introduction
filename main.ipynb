{
 "cells": [
  {
   "cell_type": "code",
   "execution_count": null,
   "metadata": {},
   "outputs": [],
   "source": [
    "# Para ler um dataframe \n",
    "import pandas as pd\n",
    "\n",
    "arquivo = pd.read_csv('./pandas-essencial-main/datasets/GasPricesinBrazil_2004-2019.csv', sep=';')\n",
    "\n",
    "display(arquivo)"
   ]
  },
  {
   "cell_type": "code",
   "execution_count": null,
   "metadata": {},
   "outputs": [],
   "source": [
    "# Para ter as primeiras 5 linhas do dataframe\n",
    "\n",
    "display(arquivo.head()) # Utilizamos a função .head()"
   ]
  },
  {
   "cell_type": "code",
   "execution_count": null,
   "metadata": {},
   "outputs": [],
   "source": [
    "# Exibi as informações da estrutur da nosso dataframe\n",
    "\n",
    "display(arquivo.info()) #Utilizando a função .info()"
   ]
  },
  {
   "cell_type": "code",
   "execution_count": null,
   "metadata": {},
   "outputs": [],
   "source": [
    "# Exibi a estrutura básica do Dataframe\n",
    "# A funçõa .shap() retorna uma tupla exibindo a quantidade de linha e a quantidade de colunas do Dataframe\n",
    "\n",
    "print(f'O número de LINHAS do nosso DataFrame é {arquivo.shape[0]} e a quantidade de COLUNAS é {arquivo.shape[1]}')"
   ]
  },
  {
   "cell_type": "code",
   "execution_count": 23,
   "metadata": {},
   "outputs": [
    {
     "data": {
      "text/html": [
       "<div>\n",
       "<style scoped>\n",
       "    .dataframe tbody tr th:only-of-type {\n",
       "        vertical-align: middle;\n",
       "    }\n",
       "\n",
       "    .dataframe tbody tr th {\n",
       "        vertical-align: top;\n",
       "    }\n",
       "\n",
       "    .dataframe thead th {\n",
       "        text-align: right;\n",
       "    }\n",
       "</style>\n",
       "<table border=\"1\" class=\"dataframe\">\n",
       "  <thead>\n",
       "    <tr style=\"text-align: right;\">\n",
       "      <th></th>\n",
       "      <th>Nome</th>\n",
       "      <th>Club</th>\n",
       "      <th>Position</th>\n",
       "      <th>Shoot</th>\n",
       "    </tr>\n",
       "  </thead>\n",
       "  <tbody>\n",
       "    <tr>\n",
       "      <th>0</th>\n",
       "      <td>Neymar</td>\n",
       "      <td>Al Hilal</td>\n",
       "      <td>PE</td>\n",
       "      <td>Right</td>\n",
       "    </tr>\n",
       "    <tr>\n",
       "      <th>1</th>\n",
       "      <td>Bernado Silva</td>\n",
       "      <td>Man City</td>\n",
       "      <td>MC</td>\n",
       "      <td>Left</td>\n",
       "    </tr>\n",
       "    <tr>\n",
       "      <th>2</th>\n",
       "      <td>Rashford</td>\n",
       "      <td>Man United</td>\n",
       "      <td>ATA</td>\n",
       "      <td>Right</td>\n",
       "    </tr>\n",
       "    <tr>\n",
       "      <th>3</th>\n",
       "      <td>Saka</td>\n",
       "      <td>Arsenal</td>\n",
       "      <td>PD</td>\n",
       "      <td>Left</td>\n",
       "    </tr>\n",
       "    <tr>\n",
       "      <th>4</th>\n",
       "      <td>Haaland</td>\n",
       "      <td>Man City</td>\n",
       "      <td>ATA</td>\n",
       "      <td>Left</td>\n",
       "    </tr>\n",
       "  </tbody>\n",
       "</table>\n",
       "</div>"
      ],
      "text/plain": [
       "            Nome        Club Position  Shoot\n",
       "0         Neymar    Al Hilal       PE  Right\n",
       "1  Bernado Silva    Man City       MC   Left\n",
       "2       Rashford  Man United      ATA  Right\n",
       "3           Saka     Arsenal       PD   Left\n",
       "4        Haaland    Man City      ATA   Left"
      ]
     },
     "metadata": {},
     "output_type": "display_data"
    }
   ],
   "source": [
    "# Criando um DataFrame direto do Pandas\n",
    "# Como Criar:\n",
    "    # 1 -> Atribuimos o DataFrame a uma variavel\n",
    "    # 2 -> Chamamos a função DatraFrame utilizando o pd\n",
    "    # 3 -> Criamos uma tupla e dentro dessa tuplal terá um dicionario\n",
    "    # 4 -> As Keys será o nome das Colunas\n",
    "    # 5 -> Os Values serão listas onde cada posição será uma linha\n",
    "\n",
    "jogadores = pd.DataFrame({\n",
    "    'Nome': ['Neymar', 'Bernado Silva', 'Rashford', 'Saka', 'Haaland'],\n",
    "    'Club': ['Al Hilal', 'Man City', 'Man United', 'Arsenal', 'Man City'],\n",
    "    'Position': ['PE', 'MC', 'ATA', 'PD', 'ATA'],\n",
    "    'Shoot': ['Right', 'Left', 'Right', 'Left', 'Left']\n",
    "})\n",
    "\n",
    "display(jogadores)"
   ]
  },
  {
   "cell_type": "code",
   "execution_count": 24,
   "metadata": {},
   "outputs": [
    {
     "data": {
      "text/plain": [
       "Index(['Nome', 'Club', 'Position', 'Shoot'], dtype='object')"
      ]
     },
     "execution_count": 24,
     "metadata": {},
     "output_type": "execute_result"
    }
   ],
   "source": [
    "# Retorna uma tupla e dentro dessa tupla contem uma lista de todas as colunas do DataFrame jogadores\n",
    "jogadores.columns"
   ]
  },
  {
   "cell_type": "code",
   "execution_count": null,
   "metadata": {},
   "outputs": [],
   "source": [
    "# Com a função rename() conseguimos atualizar o nome das colunas do nosso DataFrame\n",
    "# Vamos lá:\n",
    "    # 1 -> Criamos uma variavel que será a responsavel por armazanar o novo DataFrame\n",
    "    # 2 -> Dentro dessa variavel atribuimos o nome da DataFrame que iremos modificar, colocamos o pontos e chamamos a função rename()\n",
    "    # 3 -> Como parametro ela tera o columns=\n",
    "    # 4 -> Dentro desse columns= colocamos uma tupla e dentro dessa tupla colocamos um dicionario\n",
    "    # 5 -> Key será o antigo nome da COLUNA e o Value será o novo nome da COLUNA\n",
    "\n",
    "jogadores_update = jogadores.rename(columns={\n",
    "    'Nome':'Name',\n",
    "})\n",
    "\n",
    "display(jogadores_update)"
   ]
  },
  {
   "cell_type": "code",
   "execution_count": null,
   "metadata": {},
   "outputs": [],
   "source": [
    "# Aqui utlizamos o INPLACE=TRUE para alterar o nome da Coluna sem precisar criar um nove DataFrame\n",
    "jogadores.rename(columns=({\n",
    "    'Nome':'Name'\n",
    "}), inplace=True)\n",
    "\n",
    "jogadores"
   ]
  },
  {
   "cell_type": "code",
   "execution_count": null,
   "metadata": {},
   "outputs": [],
   "source": [
    "# Dessa maneira alteramos o nome de todas as colunas de uma só vez\n",
    "\n",
    "jogadores.columns = ['Nome', 'Clube', 'Posição Favorita', 'Melhor Pé']\n",
    "\n",
    "jogadores"
   ]
  },
  {
   "cell_type": "code",
   "execution_count": null,
   "metadata": {},
   "outputs": [],
   "source": [
    "#Extraindo somente os dados da colunas Club do DataFRame jogadores\n",
    "jogadores['Club']"
   ]
  },
  {
   "cell_type": "code",
   "execution_count": null,
   "metadata": {},
   "outputs": [],
   "source": [
    "#Extraindo someente os dados da linha 2 do DataFrame jogadores\n",
    "jogadores.iloc[2]"
   ]
  },
  {
   "cell_type": "code",
   "execution_count": null,
   "metadata": {},
   "outputs": [],
   "source": []
  }
 ],
 "metadata": {
  "kernelspec": {
   "display_name": "Python 3",
   "language": "python",
   "name": "python3"
  },
  "language_info": {
   "codemirror_mode": {
    "name": "ipython",
    "version": 3
   },
   "file_extension": ".py",
   "mimetype": "text/x-python",
   "name": "python",
   "nbconvert_exporter": "python",
   "pygments_lexer": "ipython3",
   "version": "3.12.1"
  }
 },
 "nbformat": 4,
 "nbformat_minor": 2
}
