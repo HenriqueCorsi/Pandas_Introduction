{
 "cells": [
  {
   "cell_type": "code",
   "execution_count": 1,
   "metadata": {},
   "outputs": [],
   "source": [
    "import pandas as pd\n",
    "\n",
    "relatorio_vendas = pd.read_csv('./relatorio_vendas_pandas.csv')"
   ]
  },
  {
   "cell_type": "code",
   "execution_count": null,
   "metadata": {},
   "outputs": [],
   "source": [
    "# Usando a função .unique() para exibir os dados únicos da coluna ['Marca'], descartando as duplicadas\n",
    "relatorio_vendas['Marca'].unique()"
   ]
  },
  {
   "cell_type": "code",
   "execution_count": null,
   "metadata": {},
   "outputs": [],
   "source": [
    "# Fazendo uma comparação na Coluna ['Marca']. Todas as linhas da colunas ['Marca'] que tiverem o valor 'Apple', retornara True, caso contratio retorna False\n",
    "relatorio_vendas['Marca'] == 'Apple'"
   ]
  },
  {
   "cell_type": "code",
   "execution_count": null,
   "metadata": {},
   "outputs": [],
   "source": [
    "# Aqui apenas estou atrinuindo a minha comparação a uma variavel \n",
    "apple_select01 = relatorio_vendas['Marca'] == 'Apple'"
   ]
  },
  {
   "cell_type": "code",
   "execution_count": null,
   "metadata": {},
   "outputs": [],
   "source": [
    "# Agora colocando minha variavel de comparação como uma coluna, irá exibir apenas as linhas que tem 'Apple' como valor\n",
    "relatorio_vendas[apple_select01]"
   ]
  },
  {
   "cell_type": "code",
   "execution_count": null,
   "metadata": {},
   "outputs": [],
   "source": [
    "# Mais um exemplo de filtragem\n",
    "samsung_select = relatorio_vendas['Marca']== 'Samsung'\n",
    "\n",
    "relatorio_vendas[samsung_select]"
   ]
  },
  {
   "cell_type": "code",
   "execution_count": null,
   "metadata": {},
   "outputs": [],
   "source": [
    "# Usando a função .query() para criar mais um exemplo de filtragem. Aqui acontece o mesmo cenário de antes, só se exibido as linhas que tem Apple como Marca\n",
    "apple_select02 = relatorio_vendas.query(f'Marca == \"Apple\"')"
   ]
  },
  {
   "cell_type": "code",
   "execution_count": null,
   "metadata": {},
   "outputs": [],
   "source": [
    "# Resetando o index dessa consulta que só exibi as linhas que contem Apple como Marca (É POSSIVEL USAR O DROP=True como parametro para remover a colunas index)\n",
    "apple_select02.reset_index()"
   ]
  },
  {
   "cell_type": "code",
   "execution_count": null,
   "metadata": {},
   "outputs": [],
   "source": [
    "# É comum criarmos a consulta dessa maneira, atribundo tudo no momento da declaração da variavel\n",
    "apple_select02 = relatorio_vendas.query('Marca == \"Apple').reset_index()"
   ]
  },
  {
   "cell_type": "code",
   "execution_count": null,
   "metadata": {},
   "outputs": [],
   "source": [
    "# Essa é uma consulta que irá exibir somente as vendas abaixo de R$1500 que foram pagas com PIX\n",
    "    # 1 -> Atribui a uma variavel\n",
    "    # 2 -> Chama o DataFrame e abre uma list\n",
    "    # 3 -> Dentro dessa list a gente cria a primeira tupla com a condição\n",
    "    # 4 -> Colocamos o sinal lógico de comparação\n",
    "    # 5 -> Criamos a segunda tupla com a segunda condição\n",
    "\n",
    "consulta01 = relatorio_vendas[(relatorio_vendas['Preço Total '] < 1500) & (relatorio_vendas['Formas de Pagamento'] == 'Pix')]\n",
    "consulta01"
   ]
  },
  {
   "cell_type": "code",
   "execution_count": null,
   "metadata": {},
   "outputs": [],
   "source": [
    "# Agora quero uma consulta que mostre vendas acima de R$20000, cujo a Marca é a Samsung e a forma de pagamento foi crédito\n",
    "consulta02 = relatorio_vendas[(relatorio_vendas['Preço Total '] > 20000) & (relatorio_vendas['Marca'] == 'Samsung') & (relatorio_vendas['Formas de Pagamento'] == 'Crédito')]\n",
    "consulta02"
   ]
  },
  {
   "cell_type": "code",
   "execution_count": null,
   "metadata": {},
   "outputs": [],
   "source": [
    "#Agora eu quero que aparece somente produtos da marca Apple, Samsung e Nintendo\n",
    "consulta03 = relatorio_vendas[(relatorio_vendas['Marca'] == 'Apple') | (relatorio_vendas['Marca'] == 'Samsung') | (relatorio_vendas['Marca'] == 'Nintendo')]\n",
    "\n",
    "#No momento da exibição eu consigo definir ao lado na minha variavle/consulta somente as colunas que eu quero que apareça\n",
    "consulta03[['Produto', 'Marca', 'Quantidade', 'Preço Total ']]"
   ]
  },
  {
   "cell_type": "code",
   "execution_count": null,
   "metadata": {},
   "outputs": [],
   "source": [
    "# Nesse cenário eu crio uma lista com o nome de alguns produtos e atraves da função .isin() eu consigo vericar se esses produtos dentro da lista estão no meu DataFrame\n",
    "lista_proutos = ['OnePlus 9 Pro', 'iPhone 13 mini (128GB)', 'Samsung QN90A Neo QLED TV']\n",
    "relatorio_vendas.isin(lista_proutos) #Retorna um valor Boolean"
   ]
  },
  {
   "cell_type": "code",
   "execution_count": null,
   "metadata": {},
   "outputs": [],
   "source": [
    "exemplo01 = relatorio_vendas['Marca'] == 'Apple' # Retorna um Boolean\n",
    "exemplo02 = relatorio_vendas[(relatorio_vendas['Marca'] == 'Apple')] # Retorna a DataFrame"
   ]
  },
  {
   "cell_type": "code",
   "execution_count": 33,
   "metadata": {},
   "outputs": [],
   "source": [
    "# Importando o DataFrame e definido somente as colunas que eu quero vizualizar\n",
    "player_stats = pd.read_csv('./Football Players Stats (Premier League 2021-2022).csv', encoding='windows-1252')\n",
    "player_stats = player_stats[['Player', 'Team', 'Nation', 'Pos', 'Age', 'MP', 'Starts', 'Min', 'Gls', 'Ast', 'xG', 'xA']]"
   ]
  },
  {
   "cell_type": "code",
   "execution_count": 38,
   "metadata": {},
   "outputs": [],
   "source": [
    "# Com essa instrução eu crio uma copia do DataFram onde todos os campos que estivem NaN será substituido por Vazio\n",
    "# Para usar o proprio DataFrame e não uma copia use o inplace=True como segundo parametro\n",
    "mask = player_stats.fillna('Vazio')"
   ]
  },
  {
   "cell_type": "code",
   "execution_count": null,
   "metadata": {},
   "outputs": [],
   "source": [
    "# O Mask é uma copia do DataFram so que o VAZIO esta substituindo o NaN\n",
    "mask"
   ]
  },
  {
   "cell_type": "code",
   "execution_count": null,
   "metadata": {},
   "outputs": [],
   "source": [
    "# Usando a função .cop() para criar uma copia do meu DataFrame\n",
    "player_stats_copy = player_stats.copy()"
   ]
  },
  {
   "cell_type": "code",
   "execution_count": null,
   "metadata": {},
   "outputs": [],
   "source": [
    "# Dessa maneira eu consigo substituit as colunas com dados vazios de forma personalizada:\n",
    "    # 1 -> Atribui isso a uma variavel\n",
    "    # 2 -> Chama a função .fillna()\n",
    "    # 3 -> Como parametro colocamos o value =  e abrimos um dicionario\n",
    "    # 4 -> Dentro do dinicionario colocamos a coluna como Key e o valor a ser inserido como os values\n",
    "player_stats_copy = player_stats_copy.fillna(value={\n",
    "    'Min':'Zero Min',\n",
    "    'Gls':'Zero Gls',\n",
    "    'Ast':'Zero Ast',\n",
    "    'xG':'Zero xG',\n",
    "    'xA':'Zero xA'\n",
    "})"
   ]
  },
  {
   "cell_type": "code",
   "execution_count": 63,
   "metadata": {},
   "outputs": [],
   "source": [
    "# Dessa maneira eu uso a função .dropna() para excluir todas as linhas q tenha dados vazios\n",
    "player_stats = player_stats.dropna()"
   ]
  },
  {
   "cell_type": "code",
   "execution_count": null,
   "metadata": {},
   "outputs": [],
   "source": [
    "# Usando a função sort_values() para ordenar a maneir que o DataFrame será exibido\n",
    "    # Da maneira abaixo estou ordenando a exibição a partir da coluna Preço Total\n",
    "    # Ao addd o ascending=False como parametro a exibicão será na ordem decrescente\n",
    "\n",
    "relatorio_vendas.sort_values(by=('Preço Total '), ascending=False)"
   ]
  },
  {
   "cell_type": "code",
   "execution_count": 43,
   "metadata": {},
   "outputs": [
    {
     "data": {
      "text/html": [
       "<div>\n",
       "<style scoped>\n",
       "    .dataframe tbody tr th:only-of-type {\n",
       "        vertical-align: middle;\n",
       "    }\n",
       "\n",
       "    .dataframe tbody tr th {\n",
       "        vertical-align: top;\n",
       "    }\n",
       "\n",
       "    .dataframe thead th {\n",
       "        text-align: right;\n",
       "    }\n",
       "</style>\n",
       "<table border=\"1\" class=\"dataframe\">\n",
       "  <thead>\n",
       "    <tr style=\"text-align: right;\">\n",
       "      <th></th>\n",
       "      <th>Unnamed: 0</th>\n",
       "      <th>ID Pedido</th>\n",
       "      <th>Data Pedido</th>\n",
       "      <th>ID Loja</th>\n",
       "      <th>Produto</th>\n",
       "      <th>Marca</th>\n",
       "      <th>Quantidade</th>\n",
       "      <th>Preço Unitário</th>\n",
       "      <th>Preço Total</th>\n",
       "      <th>Formas de Pagamento</th>\n",
       "    </tr>\n",
       "  </thead>\n",
       "  <tbody>\n",
       "    <tr>\n",
       "      <th>0</th>\n",
       "      <td>0</td>\n",
       "      <td>2554</td>\n",
       "      <td>2021-01-01</td>\n",
       "      <td>3</td>\n",
       "      <td>OnePlus 9 Pro</td>\n",
       "      <td>OnePlus</td>\n",
       "      <td>1</td>\n",
       "      <td>2127.41</td>\n",
       "      <td>2127.41</td>\n",
       "      <td>Pix</td>\n",
       "    </tr>\n",
       "    <tr>\n",
       "      <th>2</th>\n",
       "      <td>2</td>\n",
       "      <td>3309</td>\n",
       "      <td>2021-01-01</td>\n",
       "      <td>5</td>\n",
       "      <td>Nintendo Switch OLED</td>\n",
       "      <td>Nintendo</td>\n",
       "      <td>3</td>\n",
       "      <td>9851.29</td>\n",
       "      <td>29553.87</td>\n",
       "      <td>Débito</td>\n",
       "    </tr>\n",
       "    <tr>\n",
       "      <th>3</th>\n",
       "      <td>3</td>\n",
       "      <td>3376</td>\n",
       "      <td>2021-01-01</td>\n",
       "      <td>1</td>\n",
       "      <td>Samsung QN90A Neo QLED TV</td>\n",
       "      <td>Samsung</td>\n",
       "      <td>4</td>\n",
       "      <td>2819.41</td>\n",
       "      <td>11277.64</td>\n",
       "      <td>Crédito</td>\n",
       "    </tr>\n",
       "    <tr>\n",
       "      <th>4</th>\n",
       "      <td>4</td>\n",
       "      <td>3635</td>\n",
       "      <td>2021-01-01</td>\n",
       "      <td>1</td>\n",
       "      <td>iPhone 12 mini (64GB)</td>\n",
       "      <td>Apple</td>\n",
       "      <td>2</td>\n",
       "      <td>3384.15</td>\n",
       "      <td>6768.30</td>\n",
       "      <td>Débito</td>\n",
       "    </tr>\n",
       "    <tr>\n",
       "      <th>5</th>\n",
       "      <td>5</td>\n",
       "      <td>3707</td>\n",
       "      <td>2021-01-01</td>\n",
       "      <td>2</td>\n",
       "      <td>Google Pixel 6 Pro</td>\n",
       "      <td>Google</td>\n",
       "      <td>1</td>\n",
       "      <td>5238.58</td>\n",
       "      <td>5238.58</td>\n",
       "      <td>Crédito</td>\n",
       "    </tr>\n",
       "    <tr>\n",
       "      <th>...</th>\n",
       "      <td>...</td>\n",
       "      <td>...</td>\n",
       "      <td>...</td>\n",
       "      <td>...</td>\n",
       "      <td>...</td>\n",
       "      <td>...</td>\n",
       "      <td>...</td>\n",
       "      <td>...</td>\n",
       "      <td>...</td>\n",
       "      <td>...</td>\n",
       "    </tr>\n",
       "    <tr>\n",
       "      <th>11995</th>\n",
       "      <td>11995</td>\n",
       "      <td>9934</td>\n",
       "      <td>2021-12-31</td>\n",
       "      <td>1</td>\n",
       "      <td>Bose QuietComfort 45</td>\n",
       "      <td>Bose</td>\n",
       "      <td>5</td>\n",
       "      <td>9696.49</td>\n",
       "      <td>48482.45</td>\n",
       "      <td>Pix</td>\n",
       "    </tr>\n",
       "    <tr>\n",
       "      <th>11996</th>\n",
       "      <td>11996</td>\n",
       "      <td>10361</td>\n",
       "      <td>2021-12-31</td>\n",
       "      <td>5</td>\n",
       "      <td>Samsung Galaxy S21 Ultra</td>\n",
       "      <td>Samsung</td>\n",
       "      <td>3</td>\n",
       "      <td>6388.63</td>\n",
       "      <td>19165.89</td>\n",
       "      <td>Débito</td>\n",
       "    </tr>\n",
       "    <tr>\n",
       "      <th>11997</th>\n",
       "      <td>11997</td>\n",
       "      <td>10745</td>\n",
       "      <td>2021-12-31</td>\n",
       "      <td>3</td>\n",
       "      <td>HP Spectre x360</td>\n",
       "      <td>HP</td>\n",
       "      <td>4</td>\n",
       "      <td>8969.44</td>\n",
       "      <td>35877.76</td>\n",
       "      <td>Pix</td>\n",
       "    </tr>\n",
       "    <tr>\n",
       "      <th>11998</th>\n",
       "      <td>11998</td>\n",
       "      <td>10992</td>\n",
       "      <td>2021-12-31</td>\n",
       "      <td>2</td>\n",
       "      <td>Samsung Galaxy Watch 4</td>\n",
       "      <td>Samsung</td>\n",
       "      <td>4</td>\n",
       "      <td>4519.95</td>\n",
       "      <td>18079.80</td>\n",
       "      <td>Crédito</td>\n",
       "    </tr>\n",
       "    <tr>\n",
       "      <th>11999</th>\n",
       "      <td>11999</td>\n",
       "      <td>11417</td>\n",
       "      <td>2021-12-31</td>\n",
       "      <td>2</td>\n",
       "      <td>iPhone 13 mini (128GB)</td>\n",
       "      <td>Apple</td>\n",
       "      <td>1</td>\n",
       "      <td>8411.79</td>\n",
       "      <td>8411.79</td>\n",
       "      <td>Débito</td>\n",
       "    </tr>\n",
       "  </tbody>\n",
       "</table>\n",
       "<p>11999 rows × 10 columns</p>\n",
       "</div>"
      ],
      "text/plain": [
       "       Unnamed: 0  ID Pedido Data Pedido  ID Loja                    Produto  \\\n",
       "0               0       2554  2021-01-01        3              OnePlus 9 Pro   \n",
       "2               2       3309  2021-01-01        5       Nintendo Switch OLED   \n",
       "3               3       3376  2021-01-01        1  Samsung QN90A Neo QLED TV   \n",
       "4               4       3635  2021-01-01        1      iPhone 12 mini (64GB)   \n",
       "5               5       3707  2021-01-01        2         Google Pixel 6 Pro   \n",
       "...           ...        ...         ...      ...                        ...   \n",
       "11995       11995       9934  2021-12-31        1       Bose QuietComfort 45   \n",
       "11996       11996      10361  2021-12-31        5   Samsung Galaxy S21 Ultra   \n",
       "11997       11997      10745  2021-12-31        3            HP Spectre x360   \n",
       "11998       11998      10992  2021-12-31        2     Samsung Galaxy Watch 4   \n",
       "11999       11999      11417  2021-12-31        2     iPhone 13 mini (128GB)   \n",
       "\n",
       "          Marca  Quantidade  Preço Unitário  Preço Total  Formas de Pagamento  \n",
       "0       OnePlus           1         2127.41       2127.41                 Pix  \n",
       "2      Nintendo           3         9851.29      29553.87              Débito  \n",
       "3       Samsung           4         2819.41      11277.64             Crédito  \n",
       "4         Apple           2         3384.15       6768.30              Débito  \n",
       "5        Google           1         5238.58       5238.58             Crédito  \n",
       "...         ...         ...             ...           ...                 ...  \n",
       "11995      Bose           5         9696.49      48482.45                 Pix  \n",
       "11996   Samsung           3         6388.63      19165.89              Débito  \n",
       "11997        HP           4         8969.44      35877.76                 Pix  \n",
       "11998   Samsung           4         4519.95      18079.80             Crédito  \n",
       "11999     Apple           1         8411.79       8411.79              Débito  \n",
       "\n",
       "[11999 rows x 10 columns]"
      ]
     },
     "execution_count": 43,
     "metadata": {},
     "output_type": "execute_result"
    }
   ],
   "source": [
    "# Usando a função drop() para excluir o índice 1\n",
    "relatorio_vendas.drop(1)"
   ]
  }
 ],
 "metadata": {
  "kernelspec": {
   "display_name": "Python 3",
   "language": "python",
   "name": "python3"
  },
  "language_info": {
   "codemirror_mode": {
    "name": "ipython",
    "version": 3
   },
   "file_extension": ".py",
   "mimetype": "text/x-python",
   "name": "python",
   "nbconvert_exporter": "python",
   "pygments_lexer": "ipython3",
   "version": "3.12.1"
  }
 },
 "nbformat": 4,
 "nbformat_minor": 2
}
