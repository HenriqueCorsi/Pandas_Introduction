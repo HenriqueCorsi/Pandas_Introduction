{
 "cells": [
  {
   "cell_type": "code",
   "execution_count": 1,
   "metadata": {},
   "outputs": [],
   "source": [
    "import pandas as pd\n",
    "\n",
    "relatorio_vendas = pd.read_csv('./relatorio_vendas_pandas.csv')"
   ]
  },
  {
   "cell_type": "code",
   "execution_count": null,
   "metadata": {},
   "outputs": [],
   "source": [
    "# Usando a função .unique() para exibir os dados únicos da coluna ['Marca'], descartando as duplicadas\n",
    "relatorio_vendas['Marca'].unique()"
   ]
  },
  {
   "cell_type": "code",
   "execution_count": null,
   "metadata": {},
   "outputs": [],
   "source": [
    "# Fazendo uma comparação na Coluna ['Marca']. Todas as linhas da colunas ['Marca'] que tiverem o valor 'Apple', retornara True, caso contratio retorna False\n",
    "relatorio_vendas['Marca'] == 'Apple'"
   ]
  },
  {
   "cell_type": "code",
   "execution_count": null,
   "metadata": {},
   "outputs": [],
   "source": [
    "# Aqui apenas estou atrinuindo a minha comparação a uma variavel \n",
    "apple_select01 = relatorio_vendas['Marca'] == 'Apple'"
   ]
  },
  {
   "cell_type": "code",
   "execution_count": null,
   "metadata": {},
   "outputs": [],
   "source": [
    "# Agora colocando minha variavel de comparação como uma coluna, irá exibir apenas as linhas que tem 'Apple' como valor\n",
    "relatorio_vendas[apple_select01]"
   ]
  },
  {
   "cell_type": "code",
   "execution_count": null,
   "metadata": {},
   "outputs": [],
   "source": [
    "# Mais um exemplo de filtragem\n",
    "samsung_select = relatorio_vendas['Marca']== 'Samsung'\n",
    "\n",
    "relatorio_vendas[samsung_select]"
   ]
  },
  {
   "cell_type": "code",
   "execution_count": null,
   "metadata": {},
   "outputs": [],
   "source": [
    "# Usando a função .query() para criar mais um exemplo de filtragem. Aqui acontece o mesmo cenário de antes, só se exibido as linhas que tem Apple como Marca\n",
    "apple_select02 = relatorio_vendas.query(f'Marca == \"Apple\"')"
   ]
  },
  {
   "cell_type": "code",
   "execution_count": null,
   "metadata": {},
   "outputs": [],
   "source": [
    "# Resetando o index dessa consulta que só exibi as linhas que contem Apple como Marca (É POSSIVEL USAR O DROP=True como parametro para remover a colunas index)\n",
    "apple_select02.reset_index()"
   ]
  },
  {
   "cell_type": "code",
   "execution_count": null,
   "metadata": {},
   "outputs": [],
   "source": [
    "# É comum criarmos a consulta dessa maneira, atribundo tudo no momento da declaração da variavel\n",
    "apple_select02 = relatorio_vendas.query('Marca == \"Apple').reset_index()"
   ]
  },
  {
   "cell_type": "code",
   "execution_count": null,
   "metadata": {},
   "outputs": [],
   "source": [
    "# Essa é uma consulta que irá exibir somente as vendas abaixo de R$1500 que foram pagas com PIX\n",
    "    # 1 -> Atribui a uma variavel\n",
    "    # 2 -> Chama o DataFrame e abre uma list\n",
    "    # 3 -> Dentro dessa list a gente cria a primeira tupla com a condição\n",
    "    # 4 -> Colocamos o sinal lógico de comparação\n",
    "    # 5 -> Criamos a segunda tupla com a segunda condição\n",
    "\n",
    "consulta01 = relatorio_vendas[(relatorio_vendas['Preço Total '] < 1500) & (relatorio_vendas['Formas de Pagamento'] == 'Pix')]\n",
    "consulta01"
   ]
  },
  {
   "cell_type": "code",
   "execution_count": null,
   "metadata": {},
   "outputs": [],
   "source": [
    "# Agora quero uma consulta que mostre vendas acima de R$20000, cujo a Marca é a Samsung e a forma de pagamento foi crédito\n",
    "consulta02 = relatorio_vendas[(relatorio_vendas['Preço Total '] > 20000) & (relatorio_vendas['Marca'] == 'Samsung') & (relatorio_vendas['Formas de Pagamento'] == 'Crédito')]\n",
    "consulta02"
   ]
  },
  {
   "cell_type": "code",
   "execution_count": null,
   "metadata": {},
   "outputs": [],
   "source": [
    "#Agora eu quero que aparece somente produtos da marca Apple, Samsung e Nintendo\n",
    "consulta03 = relatorio_vendas[(relatorio_vendas['Marca'] == 'Apple') | (relatorio_vendas['Marca'] == 'Samsung') | (relatorio_vendas['Marca'] == 'Nintendo')]\n",
    "\n",
    "#No momento da exibição eu consigo definir ao lado na minha variavle/consulta somente as colunas que eu quero que apareça\n",
    "consulta03[['Produto', 'Marca', 'Quantidade', 'Preço Total ']]"
   ]
  },
  {
   "cell_type": "code",
   "execution_count": null,
   "metadata": {},
   "outputs": [],
   "source": [
    "# Nesse cenário eu crio uma lista com o nome de alguns produtos e atraves da função .isin() eu consigo vericar se esses produtos dentro da lista estão no meu DataFrame\n",
    "lista_proutos = ['OnePlus 9 Pro', 'iPhone 13 mini (128GB)', 'Samsung QN90A Neo QLED TV']\n",
    "relatorio_vendas.isin(lista_proutos) #Retorna um valor Boolean"
   ]
  },
  {
   "cell_type": "code",
   "execution_count": null,
   "metadata": {},
   "outputs": [],
   "source": [
    "exemplo01 = relatorio_vendas['Marca'] == 'Apple' # Retorna um Boolean\n",
    "exemplo02 = relatorio_vendas[(relatorio_vendas['Marca'] == 'Apple')] # Retorna a DataFrame"
   ]
  },
  {
   "cell_type": "code",
   "execution_count": 33,
   "metadata": {},
   "outputs": [],
   "source": [
    "# Importando o DataFrame e definido somente as colunas que eu quero vizualizar\n",
    "player_stats = pd.read_csv('./Football Players Stats (Premier League 2021-2022).csv', encoding='windows-1252')\n",
    "player_stats = player_stats[['Player', 'Team', 'Nation', 'Pos', 'Age', 'MP', 'Starts', 'Min', 'Gls', 'Ast', 'xG', 'xA']]"
   ]
  },
  {
   "cell_type": "code",
   "execution_count": 38,
   "metadata": {},
   "outputs": [],
   "source": [
    "# Com essa instrução eu crio uma copia do DataFram onde todos os campos que estivem NaN será substituido por Vazio\n",
    "# Para usar o proprio DataFrame e não uma copia use o inplace=True como segundo parametro\n",
    "mask = player_stats.fillna('Vazio')"
   ]
  },
  {
   "cell_type": "code",
   "execution_count": null,
   "metadata": {},
   "outputs": [],
   "source": [
    "# O Mask é uma copia do DataFram so que o VAZIO esta substituindo o NaN\n",
    "mask"
   ]
  },
  {
   "cell_type": "code",
   "execution_count": null,
   "metadata": {},
   "outputs": [],
   "source": [
    "# Usando a função .cop() para criar uma copia do meu DataFrame\n",
    "player_stats_copy = player_stats.copy()"
   ]
  },
  {
   "cell_type": "code",
   "execution_count": null,
   "metadata": {},
   "outputs": [],
   "source": [
    "# Dessa maneira eu consigo substituit as colunas com dados vazios de forma personalizada:\n",
    "    # 1 -> Atribui isso a uma variavel\n",
    "    # 2 -> Chama a função .fillna()\n",
    "    # 3 -> Como parametro colocamos o value =  e abrimos um dicionario\n",
    "    # 4 -> Dentro do dinicionario colocamos a coluna como Key e o valor a ser inserido como os values\n",
    "player_stats_copy = player_stats_copy.fillna(value={\n",
    "    'Min':'Zero Min',\n",
    "    'Gls':'Zero Gls',\n",
    "    'Ast':'Zero Ast',\n",
    "    'xG':'Zero xG',\n",
    "    'xA':'Zero xA'\n",
    "})"
   ]
  },
  {
   "cell_type": "code",
   "execution_count": 63,
   "metadata": {},
   "outputs": [],
   "source": [
    "# Dessa maneira eu uso a função .dropna() para excluir todas as linhas q tenha dados vazios\n",
    "player_stats = player_stats.dropna()"
   ]
  },
  {
   "cell_type": "code",
   "execution_count": null,
   "metadata": {},
   "outputs": [],
   "source": [
    "# Usando a função sort_values() para ordenar a maneir que o DataFrame será exibido\n",
    "    # Da maneira abaixo estou ordenando a exibição a partir da coluna Preço Total\n",
    "    # Ao addd o ascending=False como parametro a exibicão será na ordem decrescente\n",
    "\n",
    "relatorio_vendas.sort_values(by=('Preço Total '), ascending=False)"
   ]
  },
  {
   "cell_type": "code",
   "execution_count": null,
   "metadata": {},
   "outputs": [],
   "source": [
    "# Usando a função drop() para excluir o index 1\n",
    "relatorio_vendas.drop(1)"
   ]
  },
  {
   "cell_type": "code",
   "execution_count": null,
   "metadata": {},
   "outputs": [],
   "source": [
    "# Usando a função drop() e colocando uma list como parametro para excluir diversos index\n",
    "relatorio_vendas.drop([3, 4, 5])"
   ]
  },
  {
   "cell_type": "code",
   "execution_count": null,
   "metadata": {},
   "outputs": [],
   "source": [
    "#Dessa forma eu filtro somente produtos Apples e exibio somente as colunas que eu quero\n",
    "apple_sales = relatorio_vendas['Marca'] == 'Apple'\n",
    "relatorio_vendas[apple_sales][['Produto', 'Quantidade', 'Preço Unitário', 'Preço Total ']]"
   ]
  },
  {
   "cell_type": "code",
   "execution_count": null,
   "metadata": {},
   "outputs": [],
   "source": [
    "#Agrupamento (Group by)\n",
    "\n",
    "# Criado uma variavel quer irá agrupar as formas de pagamento\n",
    "formas_pagamento = relatorio_vendas.groupby(['Formas de Pagamento'])"
   ]
  },
  {
   "cell_type": "code",
   "execution_count": null,
   "metadata": {},
   "outputs": [],
   "source": [
    "#Usando o atributo groups -> Dessa forma agrupa os index de cada forma de pagamento\n",
    "formas_pagamento.groups"
   ]
  },
  {
   "cell_type": "code",
   "execution_count": null,
   "metadata": {},
   "outputs": [],
   "source": [
    "#Usando o atributo indices -> É possível vizualizar os índices que nesse caso seria cada forma de pagamento\n",
    "formas_pagamento.indices"
   ]
  },
  {
   "cell_type": "code",
   "execution_count": null,
   "metadata": {},
   "outputs": [],
   "source": [
    "# Usando o atributo get_group() -> Dessa forma eu consigo selecionar um grupo especifico do meu agrupamento\n",
    "formas_pagamento.get_group('Débito') "
   ]
  },
  {
   "cell_type": "code",
   "execution_count": null,
   "metadata": {},
   "outputs": [],
   "source": [
    "#Tambem é possivel usar o describe\n",
    "formas_pagamento.describe()"
   ]
  },
  {
   "cell_type": "code",
   "execution_count": null,
   "metadata": {},
   "outputs": [],
   "source": [
    "# É possivel usar o max() \n",
    "formas_pagamento.max()"
   ]
  },
  {
   "cell_type": "code",
   "execution_count": null,
   "metadata": {},
   "outputs": [],
   "source": [
    "# É possivel usar o min()\n",
    "formas_pagamento.min()"
   ]
  },
  {
   "cell_type": "code",
   "execution_count": null,
   "metadata": {},
   "outputs": [],
   "source": [
    "#Fazendo o agrpamento a partir de duas colunas\n",
    "agrupamento = relatorio_vendas.groupby(['Formas de Pagamento', 'Marca'])"
   ]
  },
  {
   "cell_type": "code",
   "execution_count": 49,
   "metadata": {},
   "outputs": [
    {
     "data": {
      "text/html": [
       "<div>\n",
       "<style scoped>\n",
       "    .dataframe tbody tr th:only-of-type {\n",
       "        vertical-align: middle;\n",
       "    }\n",
       "\n",
       "    .dataframe tbody tr th {\n",
       "        vertical-align: top;\n",
       "    }\n",
       "\n",
       "    .dataframe thead th {\n",
       "        text-align: right;\n",
       "    }\n",
       "</style>\n",
       "<table border=\"1\" class=\"dataframe\">\n",
       "  <thead>\n",
       "    <tr style=\"text-align: right;\">\n",
       "      <th></th>\n",
       "      <th></th>\n",
       "      <th>Unnamed: 0</th>\n",
       "      <th>ID Pedido</th>\n",
       "      <th>Data Pedido</th>\n",
       "      <th>ID Loja</th>\n",
       "      <th>Produto</th>\n",
       "      <th>Quantidade</th>\n",
       "      <th>Preço Unitário</th>\n",
       "      <th>Preço Total</th>\n",
       "      <th>Status de Pagemnto</th>\n",
       "    </tr>\n",
       "    <tr>\n",
       "      <th>Formas de Pagamento</th>\n",
       "      <th>Marca</th>\n",
       "      <th></th>\n",
       "      <th></th>\n",
       "      <th></th>\n",
       "      <th></th>\n",
       "      <th></th>\n",
       "      <th></th>\n",
       "      <th></th>\n",
       "      <th></th>\n",
       "      <th></th>\n",
       "    </tr>\n",
       "  </thead>\n",
       "  <tbody>\n",
       "    <tr>\n",
       "      <th rowspan=\"5\" valign=\"top\">Crédito</th>\n",
       "      <th>Acer</th>\n",
       "      <td>11926</td>\n",
       "      <td>11866</td>\n",
       "      <td>2021-12-29</td>\n",
       "      <td>5</td>\n",
       "      <td>Acer Predator Helios 300</td>\n",
       "      <td>5</td>\n",
       "      <td>9928.56</td>\n",
       "      <td>48238.15</td>\n",
       "      <td>Concluído</td>\n",
       "    </tr>\n",
       "    <tr>\n",
       "      <th>Alienware</th>\n",
       "      <td>11953</td>\n",
       "      <td>11853</td>\n",
       "      <td>2021-12-30</td>\n",
       "      <td>5</td>\n",
       "      <td>Alienware x17</td>\n",
       "      <td>5</td>\n",
       "      <td>9900.31</td>\n",
       "      <td>47829.95</td>\n",
       "      <td>Concluído</td>\n",
       "    </tr>\n",
       "    <tr>\n",
       "      <th>Amazon</th>\n",
       "      <td>11788</td>\n",
       "      <td>11636</td>\n",
       "      <td>2021-12-25</td>\n",
       "      <td>5</td>\n",
       "      <td>Amazon Echo Dot (4th Gen)</td>\n",
       "      <td>5</td>\n",
       "      <td>9941.63</td>\n",
       "      <td>49708.15</td>\n",
       "      <td>Concluído</td>\n",
       "    </tr>\n",
       "    <tr>\n",
       "      <th>Apple</th>\n",
       "      <td>11989</td>\n",
       "      <td>11999</td>\n",
       "      <td>2021-12-31</td>\n",
       "      <td>5</td>\n",
       "      <td>iPhone SE (2020)</td>\n",
       "      <td>5</td>\n",
       "      <td>9989.02</td>\n",
       "      <td>49886.75</td>\n",
       "      <td>Concluído</td>\n",
       "    </tr>\n",
       "    <tr>\n",
       "      <th>Asus</th>\n",
       "      <td>11976</td>\n",
       "      <td>11771</td>\n",
       "      <td>2021-12-31</td>\n",
       "      <td>5</td>\n",
       "      <td>Asus ROG Strix G15</td>\n",
       "      <td>5</td>\n",
       "      <td>9973.31</td>\n",
       "      <td>45880.80</td>\n",
       "      <td>Concluído</td>\n",
       "    </tr>\n",
       "    <tr>\n",
       "      <th>...</th>\n",
       "      <th>...</th>\n",
       "      <td>...</td>\n",
       "      <td>...</td>\n",
       "      <td>...</td>\n",
       "      <td>...</td>\n",
       "      <td>...</td>\n",
       "      <td>...</td>\n",
       "      <td>...</td>\n",
       "      <td>...</td>\n",
       "      <td>...</td>\n",
       "    </tr>\n",
       "    <tr>\n",
       "      <th rowspan=\"5\" valign=\"top\">Pix</th>\n",
       "      <th>Razer</th>\n",
       "      <td>11986</td>\n",
       "      <td>11986</td>\n",
       "      <td>2021-12-31</td>\n",
       "      <td>5</td>\n",
       "      <td>Razer Blade 15</td>\n",
       "      <td>5</td>\n",
       "      <td>9971.42</td>\n",
       "      <td>49842.95</td>\n",
       "      <td>Concluído</td>\n",
       "    </tr>\n",
       "    <tr>\n",
       "      <th>Samsung</th>\n",
       "      <td>11979</td>\n",
       "      <td>11918</td>\n",
       "      <td>2021-12-31</td>\n",
       "      <td>5</td>\n",
       "      <td>Samsung QN90A Neo QLED TV</td>\n",
       "      <td>5</td>\n",
       "      <td>9926.83</td>\n",
       "      <td>49108.80</td>\n",
       "      <td>Concluído</td>\n",
       "    </tr>\n",
       "    <tr>\n",
       "      <th>Sennheiser</th>\n",
       "      <td>11990</td>\n",
       "      <td>11997</td>\n",
       "      <td>2021-12-31</td>\n",
       "      <td>5</td>\n",
       "      <td>Sennheiser Momentum 3</td>\n",
       "      <td>5</td>\n",
       "      <td>9943.40</td>\n",
       "      <td>46794.55</td>\n",
       "      <td>Concluído</td>\n",
       "    </tr>\n",
       "    <tr>\n",
       "      <th>Sony</th>\n",
       "      <td>11867</td>\n",
       "      <td>11979</td>\n",
       "      <td>2021-12-27</td>\n",
       "      <td>5</td>\n",
       "      <td>Sony Xperia 1 III</td>\n",
       "      <td>5</td>\n",
       "      <td>9987.50</td>\n",
       "      <td>49569.80</td>\n",
       "      <td>Concluído</td>\n",
       "    </tr>\n",
       "    <tr>\n",
       "      <th>Xiaomi</th>\n",
       "      <td>11837</td>\n",
       "      <td>11747</td>\n",
       "      <td>2021-12-26</td>\n",
       "      <td>5</td>\n",
       "      <td>Xiaomi Mi 11 Ultra</td>\n",
       "      <td>5</td>\n",
       "      <td>9977.50</td>\n",
       "      <td>49859.35</td>\n",
       "      <td>Concluído</td>\n",
       "    </tr>\n",
       "  </tbody>\n",
       "</table>\n",
       "<p>66 rows × 9 columns</p>\n",
       "</div>"
      ],
      "text/plain": [
       "                                Unnamed: 0  ID Pedido Data Pedido  ID Loja  \\\n",
       "Formas de Pagamento Marca                                                    \n",
       "Crédito             Acer             11926      11866  2021-12-29        5   \n",
       "                    Alienware        11953      11853  2021-12-30        5   \n",
       "                    Amazon           11788      11636  2021-12-25        5   \n",
       "                    Apple            11989      11999  2021-12-31        5   \n",
       "                    Asus             11976      11771  2021-12-31        5   \n",
       "...                                    ...        ...         ...      ...   \n",
       "Pix                 Razer            11986      11986  2021-12-31        5   \n",
       "                    Samsung          11979      11918  2021-12-31        5   \n",
       "                    Sennheiser       11990      11997  2021-12-31        5   \n",
       "                    Sony             11867      11979  2021-12-27        5   \n",
       "                    Xiaomi           11837      11747  2021-12-26        5   \n",
       "\n",
       "                                                  Produto  Quantidade  \\\n",
       "Formas de Pagamento Marca                                               \n",
       "Crédito             Acer         Acer Predator Helios 300           5   \n",
       "                    Alienware               Alienware x17           5   \n",
       "                    Amazon      Amazon Echo Dot (4th Gen)           5   \n",
       "                    Apple                iPhone SE (2020)           5   \n",
       "                    Asus               Asus ROG Strix G15           5   \n",
       "...                                                   ...         ...   \n",
       "Pix                 Razer                  Razer Blade 15           5   \n",
       "                    Samsung     Samsung QN90A Neo QLED TV           5   \n",
       "                    Sennheiser      Sennheiser Momentum 3           5   \n",
       "                    Sony                Sony Xperia 1 III           5   \n",
       "                    Xiaomi             Xiaomi Mi 11 Ultra           5   \n",
       "\n",
       "                                Preço Unitário  Preço Total   \\\n",
       "Formas de Pagamento Marca                                      \n",
       "Crédito             Acer               9928.56      48238.15   \n",
       "                    Alienware          9900.31      47829.95   \n",
       "                    Amazon             9941.63      49708.15   \n",
       "                    Apple              9989.02      49886.75   \n",
       "                    Asus               9973.31      45880.80   \n",
       "...                                        ...           ...   \n",
       "Pix                 Razer              9971.42      49842.95   \n",
       "                    Samsung            9926.83      49108.80   \n",
       "                    Sennheiser         9943.40      46794.55   \n",
       "                    Sony               9987.50      49569.80   \n",
       "                    Xiaomi             9977.50      49859.35   \n",
       "\n",
       "                               Status de Pagemnto  \n",
       "Formas de Pagamento Marca                          \n",
       "Crédito             Acer                Concluído  \n",
       "                    Alienware           Concluído  \n",
       "                    Amazon              Concluído  \n",
       "                    Apple               Concluído  \n",
       "                    Asus                Concluído  \n",
       "...                                           ...  \n",
       "Pix                 Razer               Concluído  \n",
       "                    Samsung             Concluído  \n",
       "                    Sennheiser          Concluído  \n",
       "                    Sony                Concluído  \n",
       "                    Xiaomi              Concluído  \n",
       "\n",
       "[66 rows x 9 columns]"
      ]
     },
     "execution_count": 49,
     "metadata": {},
     "output_type": "execute_result"
    }
   ],
   "source": [
    "# Nesse exemplo eu consigo ver a maior venda de cada marca, por cada forma de pagamento\n",
    "agrupamento.max()"
   ]
  },
  {
   "cell_type": "code",
   "execution_count": 57,
   "metadata": {},
   "outputs": [
    {
     "data": {
      "text/plain": [
       "Formas de Pagamento  Marca     \n",
       "Crédito              Acer          48238.15\n",
       "                     Alienware     47829.95\n",
       "                     Amazon        49708.15\n",
       "                     Apple         49886.75\n",
       "                     Asus          45880.80\n",
       "                                     ...   \n",
       "Pix                  Razer         49842.95\n",
       "                     Samsung       49108.80\n",
       "                     Sennheiser    46794.55\n",
       "                     Sony          49569.80\n",
       "                     Xiaomi        49859.35\n",
       "Name: Preço Total , Length: 66, dtype: float64"
      ]
     },
     "execution_count": 57,
     "metadata": {},
     "output_type": "execute_result"
    }
   ],
   "source": [
    "#Nesse exemplo estou selecionando somente a coluna Preço Final para ser exibida\n",
    "agrupamento['Preço Total '].max()"
   ]
  }
 ],
 "metadata": {
  "kernelspec": {
   "display_name": "Python 3",
   "language": "python",
   "name": "python3"
  },
  "language_info": {
   "codemirror_mode": {
    "name": "ipython",
    "version": 3
   },
   "file_extension": ".py",
   "mimetype": "text/x-python",
   "name": "python",
   "nbconvert_exporter": "python",
   "pygments_lexer": "ipython3",
   "version": "3.12.1"
  }
 },
 "nbformat": 4,
 "nbformat_minor": 2
}
