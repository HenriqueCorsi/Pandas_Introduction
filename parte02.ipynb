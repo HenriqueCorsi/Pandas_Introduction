{
 "cells": [
  {
   "cell_type": "code",
   "execution_count": null,
   "metadata": {},
   "outputs": [],
   "source": [
    "import pandas as pd\n",
    "\n",
    "relatorio_vendas = pd.read_csv('./relatorio_vendas_pandas.csv')"
   ]
  },
  {
   "cell_type": "code",
   "execution_count": null,
   "metadata": {},
   "outputs": [],
   "source": [
    "# Usando a função .unique() para exibir os dados únicos da coluna ['Marca'], descartando as duplicadas\n",
    "relatorio_vendas['Marca'].unique()"
   ]
  },
  {
   "cell_type": "code",
   "execution_count": null,
   "metadata": {},
   "outputs": [],
   "source": [
    "# Fazendo uma comparação na Coluna ['Marca']. Todas as linhas da colunas ['Marca'] que tiverem o valor 'Apple', retornara True, caso contratio retorna False\n",
    "relatorio_vendas['Marca'] == 'Apple'"
   ]
  },
  {
   "cell_type": "code",
   "execution_count": null,
   "metadata": {},
   "outputs": [],
   "source": [
    "# Aqui apenas estou atrinuindo a minha comparação a uma variavel \n",
    "apple_select01 = relatorio_vendas['Marca'] == 'Apple'"
   ]
  },
  {
   "cell_type": "code",
   "execution_count": null,
   "metadata": {},
   "outputs": [],
   "source": [
    "# Agora colocando minha variavel de comparação como uma coluna, irá exibir apenas as linhas que tem 'Apple' como valor\n",
    "relatorio_vendas[apple_select01]"
   ]
  },
  {
   "cell_type": "code",
   "execution_count": null,
   "metadata": {},
   "outputs": [],
   "source": [
    "# Mais um exemplo de filtragem\n",
    "samsung_select = relatorio_vendas['Marca']== 'Samsung'\n",
    "\n",
    "relatorio_vendas[samsung_select]"
   ]
  },
  {
   "cell_type": "code",
   "execution_count": null,
   "metadata": {},
   "outputs": [],
   "source": [
    "# Usando a função .query() para criar mais um exemplo de filtragem. Aqui acontece o mesmo cenário de antes, só se exibido as linhas que tem Apple como Marca\n",
    "apple_select02 = relatorio_vendas.query(f'Marca == \"Apple\"')"
   ]
  },
  {
   "cell_type": "code",
   "execution_count": null,
   "metadata": {},
   "outputs": [],
   "source": [
    "# Resetando o index dessa consulta que só exibi as linhas que contem Apple como Marca (É POSSIVEL USAR O DROP=True como parametro para remover a colunas index)\n",
    "apple_select02.reset_index()"
   ]
  },
  {
   "cell_type": "code",
   "execution_count": null,
   "metadata": {},
   "outputs": [],
   "source": [
    "# É comum criarmos a consulta dessa maneira, atribundo tudo no momento da declaração da variavel\n",
    "apple_select02 = relatorio_vendas.query('Marca == \"Apple').reset_index()"
   ]
  },
  {
   "cell_type": "code",
   "execution_count": null,
   "metadata": {},
   "outputs": [],
   "source": []
  }
 ],
 "metadata": {
  "kernelspec": {
   "display_name": "Python 3",
   "language": "python",
   "name": "python3"
  },
  "language_info": {
   "codemirror_mode": {
    "name": "ipython",
    "version": 3
   },
   "file_extension": ".py",
   "mimetype": "text/x-python",
   "name": "python",
   "nbconvert_exporter": "python",
   "pygments_lexer": "ipython3",
   "version": "3.12.1"
  }
 },
 "nbformat": 4,
 "nbformat_minor": 2
}
