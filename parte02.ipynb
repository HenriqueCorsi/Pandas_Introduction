{
 "cells": [
  {
   "cell_type": "code",
   "execution_count": 1,
   "metadata": {},
   "outputs": [],
   "source": [
    "import pandas as pd\n",
    "\n",
    "relatorio_vendas = pd.read_csv('./relatorio_vendas_pandas.csv')"
   ]
  },
  {
   "cell_type": "code",
   "execution_count": null,
   "metadata": {},
   "outputs": [],
   "source": [
    "# Usando a função .unique() para exibir os dados únicos da coluna ['Marca'], descartando as duplicadas\n",
    "relatorio_vendas['Marca'].unique()"
   ]
  },
  {
   "cell_type": "code",
   "execution_count": null,
   "metadata": {},
   "outputs": [],
   "source": [
    "# Fazendo uma comparação na Coluna ['Marca']. Todas as linhas da colunas ['Marca'] que tiverem o valor 'Apple', retornara True, caso contratio retorna False\n",
    "relatorio_vendas['Marca'] == 'Apple'"
   ]
  },
  {
   "cell_type": "code",
   "execution_count": null,
   "metadata": {},
   "outputs": [],
   "source": [
    "# Aqui apenas estou atrinuindo a minha comparação a uma variavel \n",
    "apple_select01 = relatorio_vendas['Marca'] == 'Apple'"
   ]
  },
  {
   "cell_type": "code",
   "execution_count": null,
   "metadata": {},
   "outputs": [],
   "source": [
    "# Agora colocando minha variavel de comparação como uma coluna, irá exibir apenas as linhas que tem 'Apple' como valor\n",
    "relatorio_vendas[apple_select01]"
   ]
  },
  {
   "cell_type": "code",
   "execution_count": null,
   "metadata": {},
   "outputs": [],
   "source": [
    "# Mais um exemplo de filtragem\n",
    "samsung_select = relatorio_vendas['Marca']== 'Samsung'\n",
    "\n",
    "relatorio_vendas[samsung_select]"
   ]
  },
  {
   "cell_type": "code",
   "execution_count": null,
   "metadata": {},
   "outputs": [],
   "source": [
    "# Usando a função .query() para criar mais um exemplo de filtragem. Aqui acontece o mesmo cenário de antes, só se exibido as linhas que tem Apple como Marca\n",
    "apple_select02 = relatorio_vendas.query(f'Marca == \"Apple\"')"
   ]
  },
  {
   "cell_type": "code",
   "execution_count": null,
   "metadata": {},
   "outputs": [],
   "source": [
    "# Resetando o index dessa consulta que só exibi as linhas que contem Apple como Marca (É POSSIVEL USAR O DROP=True como parametro para remover a colunas index)\n",
    "apple_select02.reset_index()"
   ]
  },
  {
   "cell_type": "code",
   "execution_count": null,
   "metadata": {},
   "outputs": [],
   "source": [
    "# É comum criarmos a consulta dessa maneira, atribundo tudo no momento da declaração da variavel\n",
    "apple_select02 = relatorio_vendas.query('Marca == \"Apple').reset_index()"
   ]
  },
  {
   "cell_type": "code",
   "execution_count": null,
   "metadata": {},
   "outputs": [],
   "source": [
    "# Essa é uma consulta que irá exibir somente as vendas abaixo de R$1500 que foram pagas com PIX\n",
    "    # 1 -> Atribui a uma variavel\n",
    "    # 2 -> Chama o DataFrame e abre uma list\n",
    "    # 3 -> Dentro dessa list a gente cria a primeira tupla com a condição\n",
    "    # 4 -> Colocamos o sinal lógico de comparação\n",
    "    # 5 -> Criamos a segunda tupla com a segunda condição\n",
    "\n",
    "consulta01 = relatorio_vendas[(relatorio_vendas['Preço Total '] < 1500) & (relatorio_vendas['Formas de Pagamento'] == 'Pix')]\n",
    "consulta01"
   ]
  },
  {
   "cell_type": "code",
   "execution_count": null,
   "metadata": {},
   "outputs": [],
   "source": [
    "# Agora quero uma consulta que mostre vendas acima de R$20000, cujo a Marca é a Samsung e a forma de pagamento foi crédito\n",
    "consulta02 = relatorio_vendas[(relatorio_vendas['Preço Total '] > 20000) & (relatorio_vendas['Marca'] == 'Samsung') & (relatorio_vendas['Formas de Pagamento'] == 'Crédito')]\n",
    "consulta02"
   ]
  },
  {
   "cell_type": "code",
   "execution_count": null,
   "metadata": {},
   "outputs": [],
   "source": [
    "#Agora eu quero que aparece somente produtos da marca Apple, Samsung e Nintendo\n",
    "consulta03 = relatorio_vendas[(relatorio_vendas['Marca'] == 'Apple') | (relatorio_vendas['Marca'] == 'Samsung') | (relatorio_vendas['Marca'] == 'Nintendo')]\n",
    "\n",
    "#No momento da exibição eu consigo definir ao lado na minha variavle/consulta somente as colunas que eu quero que apareça\n",
    "consulta03[['Produto', 'Marca', 'Quantidade', 'Preço Total ']]"
   ]
  },
  {
   "cell_type": "code",
   "execution_count": null,
   "metadata": {},
   "outputs": [],
   "source": [
    "# Nesse cenário eu crio uma lista com o nome de alguns produtos e atraves da função .isin() eu consigo vericar se esses produtos dentro da lista estão no meu DataFrame\n",
    "lista_proutos = ['OnePlus 9 Pro', 'iPhone 13 mini (128GB)', 'Samsung QN90A Neo QLED TV']\n",
    "relatorio_vendas.isin(lista_proutos) #Retorna um valor Boolean"
   ]
  },
  {
   "cell_type": "code",
   "execution_count": null,
   "metadata": {},
   "outputs": [],
   "source": [
    "exemplo01 = relatorio_vendas['Marca'] == 'Apple' # Retorna um Boolean\n",
    "exemplo02 = relatorio_vendas[(relatorio_vendas['Marca'] == 'Apple')] # Retorna a DataFrame"
   ]
  },
  {
   "cell_type": "code",
   "execution_count": 33,
   "metadata": {},
   "outputs": [],
   "source": [
    "# Importando o DataFrame e definido somente as colunas que eu quero vizualizar\n",
    "player_stats = pd.read_csv('./Football Players Stats (Premier League 2021-2022).csv', encoding='windows-1252')\n",
    "player_stats = player_stats[['Player', 'Team', 'Nation', 'Pos', 'Age', 'MP', 'Starts', 'Min', 'Gls', 'Ast', 'xG', 'xA']]"
   ]
  },
  {
   "cell_type": "code",
   "execution_count": 38,
   "metadata": {},
   "outputs": [],
   "source": [
    "# Com essa instrução eu crio uma copia do DataFram onde todos os campos que estivem NaN será substituido por Vazio\n",
    "# Para usar o proprio DataFrame e não uma copia use o inplace=True como segundo parametro\n",
    "mask = player_stats.fillna('Vazio')"
   ]
  },
  {
   "cell_type": "code",
   "execution_count": null,
   "metadata": {},
   "outputs": [],
   "source": [
    "# O Mask é uma copia do DataFram so que o VAZIO esta substituindo o NaN\n",
    "mask"
   ]
  },
  {
   "cell_type": "code",
   "execution_count": null,
   "metadata": {},
   "outputs": [],
   "source": [
    "# Usando a função .cop() para criar uma copia do meu DataFrame\n",
    "player_stats_copy = player_stats.copy()"
   ]
  },
  {
   "cell_type": "code",
   "execution_count": null,
   "metadata": {},
   "outputs": [],
   "source": [
    "# Dessa maneira eu consigo substituit as colunas com dados vazios de forma personalizada:\n",
    "    # 1 -> Atribui isso a uma variavel\n",
    "    # 2 -> Chama a função .fillna()\n",
    "    # 3 -> Como parametro colocamos o value =  e abrimos um dicionario\n",
    "    # 4 -> Dentro do dinicionario colocamos a coluna como Key e o valor a ser inserido como os values\n",
    "player_stats_copy = player_stats_copy.fillna(value={\n",
    "    'Min':'Zero Min',\n",
    "    'Gls':'Zero Gls',\n",
    "    'Ast':'Zero Ast',\n",
    "    'xG':'Zero xG',\n",
    "    'xA':'Zero xA'\n",
    "})"
   ]
  },
  {
   "cell_type": "code",
   "execution_count": 63,
   "metadata": {},
   "outputs": [],
   "source": [
    "# Dessa maneira eu uso a função .dropna() para excluir todas as linhas q tenha dados vazios\n",
    "player_stats = player_stats.dropna()"
   ]
  }
 ],
 "metadata": {
  "kernelspec": {
   "display_name": "Python 3",
   "language": "python",
   "name": "python3"
  },
  "language_info": {
   "codemirror_mode": {
    "name": "ipython",
    "version": 3
   },
   "file_extension": ".py",
   "mimetype": "text/x-python",
   "name": "python",
   "nbconvert_exporter": "python",
   "pygments_lexer": "ipython3",
   "version": "3.12.1"
  }
 },
 "nbformat": 4,
 "nbformat_minor": 2
}
