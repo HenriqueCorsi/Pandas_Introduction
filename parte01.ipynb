{
 "cells": [
  {
   "cell_type": "code",
   "execution_count": null,
   "metadata": {},
   "outputs": [],
   "source": [
    "# Para ler um dataframe \n",
    "import pandas as pd\n",
    "\n",
    "arquivo = pd.read_csv('./GasPricesinBrazil_2004-2019.csv', sep=';')\n",
    "\n",
    "display(arquivo)"
   ]
  },
  {
   "cell_type": "code",
   "execution_count": null,
   "metadata": {},
   "outputs": [],
   "source": [
    "# Para ter as primeiras 5 linhas do dataframe\n",
    "display(arquivo.head()) # Utilizamos a função .head()"
   ]
  },
  {
   "cell_type": "code",
   "execution_count": null,
   "metadata": {},
   "outputs": [],
   "source": [
    "# Exibi as informações da estrutur da nosso dataframe\n",
    "display(arquivo.info()) #Utilizando a função .info()"
   ]
  },
  {
   "cell_type": "code",
   "execution_count": null,
   "metadata": {},
   "outputs": [],
   "source": [
    "# Exibi a estrutura básica do Dataframe\n",
    "# A funçõa .shap() retorna uma tupla exibindo a quantidade de linha e a quantidade de colunas do Dataframe\n",
    "print(f'O número de LINHAS do nosso DataFrame é {arquivo.shape[0]} e a quantidade de COLUNAS é {arquivo.shape[1]}')"
   ]
  },
  {
   "cell_type": "code",
   "execution_count": null,
   "metadata": {},
   "outputs": [],
   "source": [
    "# Criando um DataFrame direto do Pandas\n",
    "# Como Criar:\n",
    "    # 1 -> Atribuimos o DataFrame a uma variavel\n",
    "    # 2 -> Chamamos a função DatraFrame utilizando o pd\n",
    "    # 3 -> Criamos uma tupla e dentro dessa tuplal terá um dicionario\n",
    "    # 4 -> As Keys será o nome das Colunas\n",
    "    # 5 -> Os Values serão listas onde cada posição será uma linha\n",
    "\n",
    "jogadores = pd.DataFrame({\n",
    "    'Nome': ['Neymar', 'Bernado Silva', 'Rashford', 'Saka', 'Haaland'],\n",
    "    'Club': ['Al Hilal', 'Man City', 'Man United', 'Arsenal', 'Man City'],\n",
    "    'Position': ['PE', 'MC', 'ATA', 'PD', 'ATA'],\n",
    "    'Shoot': ['Right', 'Left', 'Right', 'Left', 'Left']\n",
    "})\n",
    "\n",
    "display(jogadores)"
   ]
  },
  {
   "cell_type": "code",
   "execution_count": null,
   "metadata": {},
   "outputs": [],
   "source": [
    "# Retorna uma tupla e dentro dessa tupla contem uma lista de todas as colunas do DataFrame jogadores\n",
    "jogadores.columns"
   ]
  },
  {
   "cell_type": "code",
   "execution_count": null,
   "metadata": {},
   "outputs": [],
   "source": [
    "# Com a função rename() conseguimos atualizar o nome das colunas e criar uma copia do DataFrame com a modificação\n",
    "# Vamos lá:\n",
    "    # 1 -> Criamos uma variavel que será a responsavel por armazanar o novo DataFrame\n",
    "    # 2 -> Dentro dessa variavel atribuimos o nome da DataFrame que iremos modificar, colocamos o pontos e chamamos a função rename()\n",
    "    # 3 -> Como parametro ela tera o columns=\n",
    "    # 4 -> Dentro desse columns= colocamos uma tupla e dentro dessa tupla colocamos um dicionario\n",
    "    # 5 -> Key será o antigo nome da COLUNA e o Value será o novo nome da COLUNA\n",
    "\n",
    "jogadores_update = jogadores.rename(columns={\n",
    "    'Nome':'Name',\n",
    "})\n",
    "\n",
    "display(jogadores_update)"
   ]
  },
  {
   "cell_type": "code",
   "execution_count": null,
   "metadata": {},
   "outputs": [],
   "source": [
    "# Aqui utlizamos o INPLACE=TRUE. Dessa maneira alteramos o DataFrame original, sem precisar criar uma copia\n",
    "jogadores.rename(columns=({\n",
    "    'Nome':'Name'\n",
    "}), inplace=True)\n",
    "\n",
    "jogadores"
   ]
  },
  {
   "cell_type": "code",
   "execution_count": null,
   "metadata": {},
   "outputs": [],
   "source": [
    "# Dessa maneira alteramos o nome de todas as colunas de uma só vez\n",
    "jogadores.columns = ['Nome', 'Clube', 'Posição Favorita', 'Melhor Pé']"
   ]
  },
  {
   "cell_type": "code",
   "execution_count": null,
   "metadata": {},
   "outputs": [],
   "source": [
    "#Extraindo somente os dados da colunas Club do DataFRame jogadores\n",
    "jogadores['Club']"
   ]
  },
  {
   "cell_type": "code",
   "execution_count": null,
   "metadata": {},
   "outputs": [],
   "source": [
    "#Extraindo somente os dados da linha 2 do DataFrame jogadores em formato de coluna \n",
    "jogadores.iloc[2]"
   ]
  },
  {
   "cell_type": "code",
   "execution_count": 2,
   "metadata": {},
   "outputs": [],
   "source": [
    "import pandas as pd\n",
    "\n",
    "relatorio_vendas = pd.read_excel('./relatorio_vendas_2021.xlsx')"
   ]
  },
  {
   "cell_type": "code",
   "execution_count": null,
   "metadata": {},
   "outputs": [],
   "source": [
    "# Criando uma nova coluna para o DataFrame e atribuindo o um valor único para todas as linhas\n",
    "relatorio_vendas['Status'] = 'Venda Conluída'"
   ]
  },
  {
   "cell_type": "code",
   "execution_count": null,
   "metadata": {},
   "outputs": [],
   "source": [
    "# Criando uma nova coluna no DataFrame a partir de uma coluna já existente\n",
    "relatorio_vendas['Preço Total em Dollar'] = relatorio_vendas['Preço Total '] * 5.17"
   ]
  },
  {
   "cell_type": "code",
   "execution_count": 17,
   "metadata": {},
   "outputs": [],
   "source": [
    "# Utilizando o conceito do slice para vizualizar um range dos meus índices\n",
    "relatorio_vendas[2:10]"
   ]
  },
  {
   "cell_type": "code",
   "execution_count": null,
   "metadata": {},
   "outputs": [],
   "source": [
    "# Selecionando índeices especificos do meu DataFrame\n",
    "relatorio_vendas.iloc[[190, 1002, 203, 4359, 7837]]"
   ]
  },
  {
   "cell_type": "code",
   "execution_count": null,
   "metadata": {},
   "outputs": [],
   "source": [
    "# Criando um DataFrame e atribundoos os index de forma manual\n",
    "veiculos = pd.DataFrame({\n",
    "    'Tipo Combustivel':['Flex', 'Flex', 'Flex', 'Flex'],\n",
    "    'Cambio':['Auto', 'Auto', 'Auto', 'Manual'],\n",
    "    'Motor':[1.6, 1.6, 1.5, 1.3]\n",
    "}, index=['Onix', 'Kicks', 'Yaris', 'March'])\n",
    "\n",
    "veiculos"
   ]
  },
  {
   "cell_type": "code",
   "execution_count": 8,
   "metadata": {},
   "outputs": [],
   "source": [
    "# Mais um exemplo de criação de coluna. Criando a coluna ANO com os valores [.......]\n",
    "veiculos['Ano'] = [2016, 2020, 2019, 2017]"
   ]
  },
  {
   "cell_type": "code",
   "execution_count": null,
   "metadata": {},
   "outputs": [],
   "source": [
    "#Alterando os valores da [LINHA 3], ['COLUNA 1'] para 'Auto'\n",
    "veiculos.iloc[3, 1] = 'Auto'\n",
    "\n",
    "veiculos"
   ]
  },
  {
   "cell_type": "code",
   "execution_count": null,
   "metadata": {},
   "outputs": [],
   "source": [
    "#Alterando multiplos valores do DataFrame veiculos utilizando o While \n",
    "\n",
    "lista_valores = ['Manual', 1.6, 2013]\n",
    "cont01 = 1\n",
    "cont02 = 0\n",
    "\n",
    "while cont01 <= len(lista_valores):\n",
    "    veiculos.iloc[3, cont01] = lista_valores[cont02]\n",
    "    cont01 += 1\n",
    "    cont02 += 1\n",
    "\n",
    "veiculos"
   ]
  },
  {
   "cell_type": "code",
   "execution_count": null,
   "metadata": {},
   "outputs": [],
   "source": [
    "# Vizualizando colunas especificas do relatorio de Vendas. Eu crio uma list dentro de outra list e paço os rotulos das colunas\n",
    "relatorio_vendas[['Produto', 'Quantidade', 'Preço Total ']]"
   ]
  },
  {
   "cell_type": "code",
   "execution_count": 35,
   "metadata": {},
   "outputs": [],
   "source": [
    "# Usando o del eu consigo excluir colunas do meu DataFrame. Nesse caso estou excluindo a coluna de rotulo [\"Preço Total em Dollar\"]\n",
    "del relatorio_vendas['Preço Total em Dollar']"
   ]
  },
  {
   "cell_type": "code",
   "execution_count": 38,
   "metadata": {},
   "outputs": [],
   "source": [
    "# Colando o nome do DataFram e o .to_cvs('caminho onde vc quer armazenar o arquivo') salvamos a nosso DataFrame com CSV\n",
    "relatorio_vendas.to_csv('./relatorio_vendas_pandas.csv')"
   ]
  },
  {
   "cell_type": "code",
   "execution_count": null,
   "metadata": {},
   "outputs": [],
   "source": [
    "# Usando o \"pd.to_daetime(), eu consigo colocar como parametro uma coluna. Essa couna irá mudar o seu time de dado para DATE\"\n",
    "relatorio_vendas['Data Pedido'] = pd.to_datetime(relatorio_vendas['Data Pedido'])"
   ]
  },
  {
   "cell_type": "code",
   "execution_count": null,
   "metadata": {},
   "outputs": [],
   "source": [
    "# Com a função describre(), conseguimos vizualizar várias medidas descritivas do DataFrame\n",
    "relatorio_vendas.describe()"
   ]
  },
  {
   "cell_type": "code",
   "execution_count": null,
   "metadata": {},
   "outputs": [],
   "source": [
    "# Tambem consigo usar o describe para vizualizar somente as medidas de uma unica coluna\n",
    "stats_precoFinal = relatorio_vendas.describe()['Preço Total ']\n",
    "stats_precoFinal"
   ]
  },
  {
   "cell_type": "code",
   "execution_count": null,
   "metadata": {},
   "outputs": [],
   "source": [
    "# Usando o método loc[], consiogo filtrar apenas as medidas que queri vizualizar\n",
    "stats_precoFinal.loc[['min', 'max', 'mean']]"
   ]
  }
 ],
 "metadata": {
  "kernelspec": {
   "display_name": "Python 3",
   "language": "python",
   "name": "python3"
  },
  "language_info": {
   "codemirror_mode": {
    "name": "ipython",
    "version": 3
   },
   "file_extension": ".py",
   "mimetype": "text/x-python",
   "name": "python",
   "nbconvert_exporter": "python",
   "pygments_lexer": "ipython3",
   "version": "3.12.1"
  }
 },
 "nbformat": 4,
 "nbformat_minor": 2
}
